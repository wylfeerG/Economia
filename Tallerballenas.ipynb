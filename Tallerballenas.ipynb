{
  "nbformat": 4,
  "nbformat_minor": 0,
  "metadata": {
    "colab": {
      "name": "Untitled2.ipynb",
      "provenance": []
    },
    "kernelspec": {
      "name": "python3",
      "display_name": "Python 3"
    },
    "language_info": {
      "name": "python"
    }
  },
  "cells": [
    {
      "cell_type": "code",
      "execution_count": 7,
      "metadata": {
        "id": "Uo11D9Krzk8K"
      },
      "outputs": [],
      "source": [
        "import pandas as pd\n",
        "import numpy as np\n",
        "import matplotlib.pyplot as plt\n",
        "import seaborn as sns\n",
        "import statsmodels.api as sm"
      ]
    },
    {
      "cell_type": "code",
      "source": [
        "df = pd.read_csv(\"datos_whales.csv\")"
      ],
      "metadata": {
        "id": "0_rPvx2EzuH7"
      },
      "execution_count": 10,
      "outputs": []
    },
    {
      "cell_type": "markdown",
      "source": [
        "Nombre de las variables de la base de datos =>\n",
        "\n",
        "Country: país de procedencia\n",
        "\n",
        "SeeWhales: haber visto o no ballenas durante el viaje\n",
        "\n",
        "Age: edad\n",
        "\n",
        "Gender: género\n",
        "\n",
        "Education: educación\n",
        "\n",
        "Income_AUD: grupo de ingreso\n",
        "\n",
        "Income: Ingreso\n",
        "AdultWhales: Número de ballenas vistas\n",
        "\n",
        "YoungWhale: haber visto ballenas jóvenes\n",
        "\n",
        "Max_wtp: máxima disposición a pagar a la semana por conservar las ballenas\n",
        "\n",
        "wtp: dispuesto a pagar por protección\n",
        "\n",
        "PayConserve: Disposición a pagar por conservar 2 dólares cada semana durante 10 años "
      ],
      "metadata": {
        "id": "WodhhH3r0yoT"
      }
    },
    {
      "cell_type": "code",
      "source": [
        "df"
      ],
      "metadata": {
        "colab": {
          "base_uri": "https://localhost:8080/",
          "height": 661
        },
        "id": "r92O2TkD1-9C",
        "outputId": "a481e454-1cab-47da-9a11-16806219d008"
      },
      "execution_count": 11,
      "outputs": [
        {
          "output_type": "execute_result",
          "data": {
            "text/plain": [
              "       Country  SeeWhales   Age  Gender             Education  \\\n",
              "0    Australia          1  31.0  Female               Diploma   \n",
              "1           UK          0  22.0  Female                Degree   \n",
              "2          USA          0  46.0  Female                Degree   \n",
              "3       France          0  37.0  Female               Diploma   \n",
              "4           UK          0  66.0  Female                Degree   \n",
              "..         ...        ...   ...     ...                   ...   \n",
              "696  Australia          0  56.0  Female     Completed year 10   \n",
              "697  Australia          0  38.0  Female     Completed year 10   \n",
              "698  Australia          0  24.0  Female               Diploma   \n",
              "699  Australia          0  50.0    Male  Post-graduate degree   \n",
              "700  Australia          0  32.0    Male                Degree   \n",
              "\n",
              "            Income_AUD   Income  AdultWhales YoungWhales  Max_wtp   wtp  \\\n",
              "0    $60,001 - $70,000  65000.5            2         Yes      0.0  Less   \n",
              "1    Less than $20,000  10000.0            6          No      0.0  More   \n",
              "2    More than $70,000  85000.5            7          No      0.0  More   \n",
              "3    $20,001 - $30,000  25000.5            4         Yes      0.0  More   \n",
              "4                  NaN      NaN            6          No      0.0  More   \n",
              "..                 ...      ...          ...         ...      ...   ...   \n",
              "696  Less than $20,000  10000.0            0         Yes      1.0  Same   \n",
              "697  $30,001 - $40,000  35000.5            6         Yes      2.0  Same   \n",
              "698  $20,001 - $30,000  25000.5            6          No      2.0  Less   \n",
              "699  $30,001 - $40,000  35000.5            2         Yes      5.0  Same   \n",
              "700  More than $70,000  85000.5            8         Yes      0.0  Same   \n",
              "\n",
              "     PayConserve  \n",
              "0              1  \n",
              "1              0  \n",
              "2              0  \n",
              "3              1  \n",
              "4              0  \n",
              "..           ...  \n",
              "696            1  \n",
              "697            1  \n",
              "698            1  \n",
              "699            1  \n",
              "700            0  \n",
              "\n",
              "[701 rows x 12 columns]"
            ],
            "text/html": [
              "\n",
              "  <div id=\"df-dc243de6-d79f-4696-952c-b5659d43e16b\">\n",
              "    <div class=\"colab-df-container\">\n",
              "      <div>\n",
              "<style scoped>\n",
              "    .dataframe tbody tr th:only-of-type {\n",
              "        vertical-align: middle;\n",
              "    }\n",
              "\n",
              "    .dataframe tbody tr th {\n",
              "        vertical-align: top;\n",
              "    }\n",
              "\n",
              "    .dataframe thead th {\n",
              "        text-align: right;\n",
              "    }\n",
              "</style>\n",
              "<table border=\"1\" class=\"dataframe\">\n",
              "  <thead>\n",
              "    <tr style=\"text-align: right;\">\n",
              "      <th></th>\n",
              "      <th>Country</th>\n",
              "      <th>SeeWhales</th>\n",
              "      <th>Age</th>\n",
              "      <th>Gender</th>\n",
              "      <th>Education</th>\n",
              "      <th>Income_AUD</th>\n",
              "      <th>Income</th>\n",
              "      <th>AdultWhales</th>\n",
              "      <th>YoungWhales</th>\n",
              "      <th>Max_wtp</th>\n",
              "      <th>wtp</th>\n",
              "      <th>PayConserve</th>\n",
              "    </tr>\n",
              "  </thead>\n",
              "  <tbody>\n",
              "    <tr>\n",
              "      <th>0</th>\n",
              "      <td>Australia</td>\n",
              "      <td>1</td>\n",
              "      <td>31.0</td>\n",
              "      <td>Female</td>\n",
              "      <td>Diploma</td>\n",
              "      <td>$60,001 - $70,000</td>\n",
              "      <td>65000.5</td>\n",
              "      <td>2</td>\n",
              "      <td>Yes</td>\n",
              "      <td>0.0</td>\n",
              "      <td>Less</td>\n",
              "      <td>1</td>\n",
              "    </tr>\n",
              "    <tr>\n",
              "      <th>1</th>\n",
              "      <td>UK</td>\n",
              "      <td>0</td>\n",
              "      <td>22.0</td>\n",
              "      <td>Female</td>\n",
              "      <td>Degree</td>\n",
              "      <td>Less than $20,000</td>\n",
              "      <td>10000.0</td>\n",
              "      <td>6</td>\n",
              "      <td>No</td>\n",
              "      <td>0.0</td>\n",
              "      <td>More</td>\n",
              "      <td>0</td>\n",
              "    </tr>\n",
              "    <tr>\n",
              "      <th>2</th>\n",
              "      <td>USA</td>\n",
              "      <td>0</td>\n",
              "      <td>46.0</td>\n",
              "      <td>Female</td>\n",
              "      <td>Degree</td>\n",
              "      <td>More than $70,000</td>\n",
              "      <td>85000.5</td>\n",
              "      <td>7</td>\n",
              "      <td>No</td>\n",
              "      <td>0.0</td>\n",
              "      <td>More</td>\n",
              "      <td>0</td>\n",
              "    </tr>\n",
              "    <tr>\n",
              "      <th>3</th>\n",
              "      <td>France</td>\n",
              "      <td>0</td>\n",
              "      <td>37.0</td>\n",
              "      <td>Female</td>\n",
              "      <td>Diploma</td>\n",
              "      <td>$20,001 - $30,000</td>\n",
              "      <td>25000.5</td>\n",
              "      <td>4</td>\n",
              "      <td>Yes</td>\n",
              "      <td>0.0</td>\n",
              "      <td>More</td>\n",
              "      <td>1</td>\n",
              "    </tr>\n",
              "    <tr>\n",
              "      <th>4</th>\n",
              "      <td>UK</td>\n",
              "      <td>0</td>\n",
              "      <td>66.0</td>\n",
              "      <td>Female</td>\n",
              "      <td>Degree</td>\n",
              "      <td>NaN</td>\n",
              "      <td>NaN</td>\n",
              "      <td>6</td>\n",
              "      <td>No</td>\n",
              "      <td>0.0</td>\n",
              "      <td>More</td>\n",
              "      <td>0</td>\n",
              "    </tr>\n",
              "    <tr>\n",
              "      <th>...</th>\n",
              "      <td>...</td>\n",
              "      <td>...</td>\n",
              "      <td>...</td>\n",
              "      <td>...</td>\n",
              "      <td>...</td>\n",
              "      <td>...</td>\n",
              "      <td>...</td>\n",
              "      <td>...</td>\n",
              "      <td>...</td>\n",
              "      <td>...</td>\n",
              "      <td>...</td>\n",
              "      <td>...</td>\n",
              "    </tr>\n",
              "    <tr>\n",
              "      <th>696</th>\n",
              "      <td>Australia</td>\n",
              "      <td>0</td>\n",
              "      <td>56.0</td>\n",
              "      <td>Female</td>\n",
              "      <td>Completed year 10</td>\n",
              "      <td>Less than $20,000</td>\n",
              "      <td>10000.0</td>\n",
              "      <td>0</td>\n",
              "      <td>Yes</td>\n",
              "      <td>1.0</td>\n",
              "      <td>Same</td>\n",
              "      <td>1</td>\n",
              "    </tr>\n",
              "    <tr>\n",
              "      <th>697</th>\n",
              "      <td>Australia</td>\n",
              "      <td>0</td>\n",
              "      <td>38.0</td>\n",
              "      <td>Female</td>\n",
              "      <td>Completed year 10</td>\n",
              "      <td>$30,001 - $40,000</td>\n",
              "      <td>35000.5</td>\n",
              "      <td>6</td>\n",
              "      <td>Yes</td>\n",
              "      <td>2.0</td>\n",
              "      <td>Same</td>\n",
              "      <td>1</td>\n",
              "    </tr>\n",
              "    <tr>\n",
              "      <th>698</th>\n",
              "      <td>Australia</td>\n",
              "      <td>0</td>\n",
              "      <td>24.0</td>\n",
              "      <td>Female</td>\n",
              "      <td>Diploma</td>\n",
              "      <td>$20,001 - $30,000</td>\n",
              "      <td>25000.5</td>\n",
              "      <td>6</td>\n",
              "      <td>No</td>\n",
              "      <td>2.0</td>\n",
              "      <td>Less</td>\n",
              "      <td>1</td>\n",
              "    </tr>\n",
              "    <tr>\n",
              "      <th>699</th>\n",
              "      <td>Australia</td>\n",
              "      <td>0</td>\n",
              "      <td>50.0</td>\n",
              "      <td>Male</td>\n",
              "      <td>Post-graduate degree</td>\n",
              "      <td>$30,001 - $40,000</td>\n",
              "      <td>35000.5</td>\n",
              "      <td>2</td>\n",
              "      <td>Yes</td>\n",
              "      <td>5.0</td>\n",
              "      <td>Same</td>\n",
              "      <td>1</td>\n",
              "    </tr>\n",
              "    <tr>\n",
              "      <th>700</th>\n",
              "      <td>Australia</td>\n",
              "      <td>0</td>\n",
              "      <td>32.0</td>\n",
              "      <td>Male</td>\n",
              "      <td>Degree</td>\n",
              "      <td>More than $70,000</td>\n",
              "      <td>85000.5</td>\n",
              "      <td>8</td>\n",
              "      <td>Yes</td>\n",
              "      <td>0.0</td>\n",
              "      <td>Same</td>\n",
              "      <td>0</td>\n",
              "    </tr>\n",
              "  </tbody>\n",
              "</table>\n",
              "<p>701 rows × 12 columns</p>\n",
              "</div>\n",
              "      <button class=\"colab-df-convert\" onclick=\"convertToInteractive('df-dc243de6-d79f-4696-952c-b5659d43e16b')\"\n",
              "              title=\"Convert this dataframe to an interactive table.\"\n",
              "              style=\"display:none;\">\n",
              "        \n",
              "  <svg xmlns=\"http://www.w3.org/2000/svg\" height=\"24px\"viewBox=\"0 0 24 24\"\n",
              "       width=\"24px\">\n",
              "    <path d=\"M0 0h24v24H0V0z\" fill=\"none\"/>\n",
              "    <path d=\"M18.56 5.44l.94 2.06.94-2.06 2.06-.94-2.06-.94-.94-2.06-.94 2.06-2.06.94zm-11 1L8.5 8.5l.94-2.06 2.06-.94-2.06-.94L8.5 2.5l-.94 2.06-2.06.94zm10 10l.94 2.06.94-2.06 2.06-.94-2.06-.94-.94-2.06-.94 2.06-2.06.94z\"/><path d=\"M17.41 7.96l-1.37-1.37c-.4-.4-.92-.59-1.43-.59-.52 0-1.04.2-1.43.59L10.3 9.45l-7.72 7.72c-.78.78-.78 2.05 0 2.83L4 21.41c.39.39.9.59 1.41.59.51 0 1.02-.2 1.41-.59l7.78-7.78 2.81-2.81c.8-.78.8-2.07 0-2.86zM5.41 20L4 18.59l7.72-7.72 1.47 1.35L5.41 20z\"/>\n",
              "  </svg>\n",
              "      </button>\n",
              "      \n",
              "  <style>\n",
              "    .colab-df-container {\n",
              "      display:flex;\n",
              "      flex-wrap:wrap;\n",
              "      gap: 12px;\n",
              "    }\n",
              "\n",
              "    .colab-df-convert {\n",
              "      background-color: #E8F0FE;\n",
              "      border: none;\n",
              "      border-radius: 50%;\n",
              "      cursor: pointer;\n",
              "      display: none;\n",
              "      fill: #1967D2;\n",
              "      height: 32px;\n",
              "      padding: 0 0 0 0;\n",
              "      width: 32px;\n",
              "    }\n",
              "\n",
              "    .colab-df-convert:hover {\n",
              "      background-color: #E2EBFA;\n",
              "      box-shadow: 0px 1px 2px rgba(60, 64, 67, 0.3), 0px 1px 3px 1px rgba(60, 64, 67, 0.15);\n",
              "      fill: #174EA6;\n",
              "    }\n",
              "\n",
              "    [theme=dark] .colab-df-convert {\n",
              "      background-color: #3B4455;\n",
              "      fill: #D2E3FC;\n",
              "    }\n",
              "\n",
              "    [theme=dark] .colab-df-convert:hover {\n",
              "      background-color: #434B5C;\n",
              "      box-shadow: 0px 1px 3px 1px rgba(0, 0, 0, 0.15);\n",
              "      filter: drop-shadow(0px 1px 2px rgba(0, 0, 0, 0.3));\n",
              "      fill: #FFFFFF;\n",
              "    }\n",
              "  </style>\n",
              "\n",
              "      <script>\n",
              "        const buttonEl =\n",
              "          document.querySelector('#df-dc243de6-d79f-4696-952c-b5659d43e16b button.colab-df-convert');\n",
              "        buttonEl.style.display =\n",
              "          google.colab.kernel.accessAllowed ? 'block' : 'none';\n",
              "\n",
              "        async function convertToInteractive(key) {\n",
              "          const element = document.querySelector('#df-dc243de6-d79f-4696-952c-b5659d43e16b');\n",
              "          const dataTable =\n",
              "            await google.colab.kernel.invokeFunction('convertToInteractive',\n",
              "                                                     [key], {});\n",
              "          if (!dataTable) return;\n",
              "\n",
              "          const docLinkHtml = 'Like what you see? Visit the ' +\n",
              "            '<a target=\"_blank\" href=https://colab.research.google.com/notebooks/data_table.ipynb>data table notebook</a>'\n",
              "            + ' to learn more about interactive tables.';\n",
              "          element.innerHTML = '';\n",
              "          dataTable['output_type'] = 'display_data';\n",
              "          await google.colab.output.renderOutput(dataTable, element);\n",
              "          const docLink = document.createElement('div');\n",
              "          docLink.innerHTML = docLinkHtml;\n",
              "          element.appendChild(docLink);\n",
              "        }\n",
              "      </script>\n",
              "    </div>\n",
              "  </div>\n",
              "  "
            ]
          },
          "metadata": {},
          "execution_count": 11
        }
      ]
    },
    {
      "cell_type": "code",
      "source": [
        "df.describe"
      ],
      "metadata": {
        "colab": {
          "base_uri": "https://localhost:8080/"
        },
        "id": "PuT-x3ou2GQo",
        "outputId": "eb18f244-3d51-4ecb-ce82-ff2a14067430"
      },
      "execution_count": 12,
      "outputs": [
        {
          "output_type": "execute_result",
          "data": {
            "text/plain": [
              "<bound method NDFrame.describe of        Country  SeeWhales   Age  Gender             Education  \\\n",
              "0    Australia          1  31.0  Female               Diploma   \n",
              "1           UK          0  22.0  Female                Degree   \n",
              "2          USA          0  46.0  Female                Degree   \n",
              "3       France          0  37.0  Female               Diploma   \n",
              "4           UK          0  66.0  Female                Degree   \n",
              "..         ...        ...   ...     ...                   ...   \n",
              "696  Australia          0  56.0  Female     Completed year 10   \n",
              "697  Australia          0  38.0  Female     Completed year 10   \n",
              "698  Australia          0  24.0  Female               Diploma   \n",
              "699  Australia          0  50.0    Male  Post-graduate degree   \n",
              "700  Australia          0  32.0    Male                Degree   \n",
              "\n",
              "            Income_AUD   Income  AdultWhales YoungWhales  Max_wtp   wtp  \\\n",
              "0    $60,001 - $70,000  65000.5            2         Yes      0.0  Less   \n",
              "1    Less than $20,000  10000.0            6          No      0.0  More   \n",
              "2    More than $70,000  85000.5            7          No      0.0  More   \n",
              "3    $20,001 - $30,000  25000.5            4         Yes      0.0  More   \n",
              "4                  NaN      NaN            6          No      0.0  More   \n",
              "..                 ...      ...          ...         ...      ...   ...   \n",
              "696  Less than $20,000  10000.0            0         Yes      1.0  Same   \n",
              "697  $30,001 - $40,000  35000.5            6         Yes      2.0  Same   \n",
              "698  $20,001 - $30,000  25000.5            6          No      2.0  Less   \n",
              "699  $30,001 - $40,000  35000.5            2         Yes      5.0  Same   \n",
              "700  More than $70,000  85000.5            8         Yes      0.0  Same   \n",
              "\n",
              "     PayConserve  \n",
              "0              1  \n",
              "1              0  \n",
              "2              0  \n",
              "3              1  \n",
              "4              0  \n",
              "..           ...  \n",
              "696            1  \n",
              "697            1  \n",
              "698            1  \n",
              "699            1  \n",
              "700            0  \n",
              "\n",
              "[701 rows x 12 columns]>"
            ]
          },
          "metadata": {},
          "execution_count": 12
        }
      ]
    },
    {
      "cell_type": "code",
      "source": [
        "df = df[[\"SeeWhales\",\"Income\",\"AdultWhales\",\"PayConserve\",\"Age\",\"YoungWhales\"]]"
      ],
      "metadata": {
        "id": "92jQT-XC2RCx"
      },
      "execution_count": 13,
      "outputs": []
    },
    {
      "cell_type": "code",
      "source": [
        "df.replace({\"YoungWhales\" : {\"Yes\":1,\"No\":0}}, inplace=True)"
      ],
      "metadata": {
        "id": "MHusS8nx2Ror"
      },
      "execution_count": null,
      "outputs": []
    },
    {
      "cell_type": "code",
      "source": [
        "df.dropna(inplace=True)"
      ],
      "metadata": {
        "id": "IfQ8K5Xa2UyK"
      },
      "execution_count": null,
      "outputs": []
    },
    {
      "cell_type": "code",
      "source": [
        "df"
      ],
      "metadata": {
        "colab": {
          "base_uri": "https://localhost:8080/",
          "height": 424
        },
        "id": "IJS2jkCy2qiD",
        "outputId": "2aaaae93-801e-4504-9cd8-bf9affc9e859"
      },
      "execution_count": 16,
      "outputs": [
        {
          "output_type": "execute_result",
          "data": {
            "text/plain": [
              "     SeeWhales   Income  AdultWhales  PayConserve   Age  YoungWhales\n",
              "0            1  65000.5            2            1  31.0            1\n",
              "1            0  10000.0            6            0  22.0            0\n",
              "2            0  85000.5            7            0  46.0            0\n",
              "3            0  25000.5            4            1  37.0            1\n",
              "5            0  45000.5            3            1  65.0            1\n",
              "..         ...      ...          ...          ...   ...          ...\n",
              "696          0  10000.0            0            1  56.0            1\n",
              "697          0  35000.5            6            1  38.0            1\n",
              "698          0  25000.5            6            1  24.0            0\n",
              "699          0  35000.5            2            1  50.0            1\n",
              "700          0  85000.5            8            0  32.0            1\n",
              "\n",
              "[668 rows x 6 columns]"
            ],
            "text/html": [
              "\n",
              "  <div id=\"df-15390fa6-6ee7-4833-8a43-5f2cf3eef078\">\n",
              "    <div class=\"colab-df-container\">\n",
              "      <div>\n",
              "<style scoped>\n",
              "    .dataframe tbody tr th:only-of-type {\n",
              "        vertical-align: middle;\n",
              "    }\n",
              "\n",
              "    .dataframe tbody tr th {\n",
              "        vertical-align: top;\n",
              "    }\n",
              "\n",
              "    .dataframe thead th {\n",
              "        text-align: right;\n",
              "    }\n",
              "</style>\n",
              "<table border=\"1\" class=\"dataframe\">\n",
              "  <thead>\n",
              "    <tr style=\"text-align: right;\">\n",
              "      <th></th>\n",
              "      <th>SeeWhales</th>\n",
              "      <th>Income</th>\n",
              "      <th>AdultWhales</th>\n",
              "      <th>PayConserve</th>\n",
              "      <th>Age</th>\n",
              "      <th>YoungWhales</th>\n",
              "    </tr>\n",
              "  </thead>\n",
              "  <tbody>\n",
              "    <tr>\n",
              "      <th>0</th>\n",
              "      <td>1</td>\n",
              "      <td>65000.5</td>\n",
              "      <td>2</td>\n",
              "      <td>1</td>\n",
              "      <td>31.0</td>\n",
              "      <td>1</td>\n",
              "    </tr>\n",
              "    <tr>\n",
              "      <th>1</th>\n",
              "      <td>0</td>\n",
              "      <td>10000.0</td>\n",
              "      <td>6</td>\n",
              "      <td>0</td>\n",
              "      <td>22.0</td>\n",
              "      <td>0</td>\n",
              "    </tr>\n",
              "    <tr>\n",
              "      <th>2</th>\n",
              "      <td>0</td>\n",
              "      <td>85000.5</td>\n",
              "      <td>7</td>\n",
              "      <td>0</td>\n",
              "      <td>46.0</td>\n",
              "      <td>0</td>\n",
              "    </tr>\n",
              "    <tr>\n",
              "      <th>3</th>\n",
              "      <td>0</td>\n",
              "      <td>25000.5</td>\n",
              "      <td>4</td>\n",
              "      <td>1</td>\n",
              "      <td>37.0</td>\n",
              "      <td>1</td>\n",
              "    </tr>\n",
              "    <tr>\n",
              "      <th>5</th>\n",
              "      <td>0</td>\n",
              "      <td>45000.5</td>\n",
              "      <td>3</td>\n",
              "      <td>1</td>\n",
              "      <td>65.0</td>\n",
              "      <td>1</td>\n",
              "    </tr>\n",
              "    <tr>\n",
              "      <th>...</th>\n",
              "      <td>...</td>\n",
              "      <td>...</td>\n",
              "      <td>...</td>\n",
              "      <td>...</td>\n",
              "      <td>...</td>\n",
              "      <td>...</td>\n",
              "    </tr>\n",
              "    <tr>\n",
              "      <th>696</th>\n",
              "      <td>0</td>\n",
              "      <td>10000.0</td>\n",
              "      <td>0</td>\n",
              "      <td>1</td>\n",
              "      <td>56.0</td>\n",
              "      <td>1</td>\n",
              "    </tr>\n",
              "    <tr>\n",
              "      <th>697</th>\n",
              "      <td>0</td>\n",
              "      <td>35000.5</td>\n",
              "      <td>6</td>\n",
              "      <td>1</td>\n",
              "      <td>38.0</td>\n",
              "      <td>1</td>\n",
              "    </tr>\n",
              "    <tr>\n",
              "      <th>698</th>\n",
              "      <td>0</td>\n",
              "      <td>25000.5</td>\n",
              "      <td>6</td>\n",
              "      <td>1</td>\n",
              "      <td>24.0</td>\n",
              "      <td>0</td>\n",
              "    </tr>\n",
              "    <tr>\n",
              "      <th>699</th>\n",
              "      <td>0</td>\n",
              "      <td>35000.5</td>\n",
              "      <td>2</td>\n",
              "      <td>1</td>\n",
              "      <td>50.0</td>\n",
              "      <td>1</td>\n",
              "    </tr>\n",
              "    <tr>\n",
              "      <th>700</th>\n",
              "      <td>0</td>\n",
              "      <td>85000.5</td>\n",
              "      <td>8</td>\n",
              "      <td>0</td>\n",
              "      <td>32.0</td>\n",
              "      <td>1</td>\n",
              "    </tr>\n",
              "  </tbody>\n",
              "</table>\n",
              "<p>668 rows × 6 columns</p>\n",
              "</div>\n",
              "      <button class=\"colab-df-convert\" onclick=\"convertToInteractive('df-15390fa6-6ee7-4833-8a43-5f2cf3eef078')\"\n",
              "              title=\"Convert this dataframe to an interactive table.\"\n",
              "              style=\"display:none;\">\n",
              "        \n",
              "  <svg xmlns=\"http://www.w3.org/2000/svg\" height=\"24px\"viewBox=\"0 0 24 24\"\n",
              "       width=\"24px\">\n",
              "    <path d=\"M0 0h24v24H0V0z\" fill=\"none\"/>\n",
              "    <path d=\"M18.56 5.44l.94 2.06.94-2.06 2.06-.94-2.06-.94-.94-2.06-.94 2.06-2.06.94zm-11 1L8.5 8.5l.94-2.06 2.06-.94-2.06-.94L8.5 2.5l-.94 2.06-2.06.94zm10 10l.94 2.06.94-2.06 2.06-.94-2.06-.94-.94-2.06-.94 2.06-2.06.94z\"/><path d=\"M17.41 7.96l-1.37-1.37c-.4-.4-.92-.59-1.43-.59-.52 0-1.04.2-1.43.59L10.3 9.45l-7.72 7.72c-.78.78-.78 2.05 0 2.83L4 21.41c.39.39.9.59 1.41.59.51 0 1.02-.2 1.41-.59l7.78-7.78 2.81-2.81c.8-.78.8-2.07 0-2.86zM5.41 20L4 18.59l7.72-7.72 1.47 1.35L5.41 20z\"/>\n",
              "  </svg>\n",
              "      </button>\n",
              "      \n",
              "  <style>\n",
              "    .colab-df-container {\n",
              "      display:flex;\n",
              "      flex-wrap:wrap;\n",
              "      gap: 12px;\n",
              "    }\n",
              "\n",
              "    .colab-df-convert {\n",
              "      background-color: #E8F0FE;\n",
              "      border: none;\n",
              "      border-radius: 50%;\n",
              "      cursor: pointer;\n",
              "      display: none;\n",
              "      fill: #1967D2;\n",
              "      height: 32px;\n",
              "      padding: 0 0 0 0;\n",
              "      width: 32px;\n",
              "    }\n",
              "\n",
              "    .colab-df-convert:hover {\n",
              "      background-color: #E2EBFA;\n",
              "      box-shadow: 0px 1px 2px rgba(60, 64, 67, 0.3), 0px 1px 3px 1px rgba(60, 64, 67, 0.15);\n",
              "      fill: #174EA6;\n",
              "    }\n",
              "\n",
              "    [theme=dark] .colab-df-convert {\n",
              "      background-color: #3B4455;\n",
              "      fill: #D2E3FC;\n",
              "    }\n",
              "\n",
              "    [theme=dark] .colab-df-convert:hover {\n",
              "      background-color: #434B5C;\n",
              "      box-shadow: 0px 1px 3px 1px rgba(0, 0, 0, 0.15);\n",
              "      filter: drop-shadow(0px 1px 2px rgba(0, 0, 0, 0.3));\n",
              "      fill: #FFFFFF;\n",
              "    }\n",
              "  </style>\n",
              "\n",
              "      <script>\n",
              "        const buttonEl =\n",
              "          document.querySelector('#df-15390fa6-6ee7-4833-8a43-5f2cf3eef078 button.colab-df-convert');\n",
              "        buttonEl.style.display =\n",
              "          google.colab.kernel.accessAllowed ? 'block' : 'none';\n",
              "\n",
              "        async function convertToInteractive(key) {\n",
              "          const element = document.querySelector('#df-15390fa6-6ee7-4833-8a43-5f2cf3eef078');\n",
              "          const dataTable =\n",
              "            await google.colab.kernel.invokeFunction('convertToInteractive',\n",
              "                                                     [key], {});\n",
              "          if (!dataTable) return;\n",
              "\n",
              "          const docLinkHtml = 'Like what you see? Visit the ' +\n",
              "            '<a target=\"_blank\" href=https://colab.research.google.com/notebooks/data_table.ipynb>data table notebook</a>'\n",
              "            + ' to learn more about interactive tables.';\n",
              "          element.innerHTML = '';\n",
              "          dataTable['output_type'] = 'display_data';\n",
              "          await google.colab.output.renderOutput(dataTable, element);\n",
              "          const docLink = document.createElement('div');\n",
              "          docLink.innerHTML = docLinkHtml;\n",
              "          element.appendChild(docLink);\n",
              "        }\n",
              "      </script>\n",
              "    </div>\n",
              "  </div>\n",
              "  "
            ]
          },
          "metadata": {},
          "execution_count": 16
        }
      ]
    },
    {
      "cell_type": "code",
      "source": [
        "df.describe"
      ],
      "metadata": {
        "colab": {
          "base_uri": "https://localhost:8080/"
        },
        "id": "h3cGg9vM2wTD",
        "outputId": "dc40030c-257a-41af-a934-f82f2081c033"
      },
      "execution_count": 17,
      "outputs": [
        {
          "output_type": "execute_result",
          "data": {
            "text/plain": [
              "<bound method NDFrame.describe of      SeeWhales   Income  AdultWhales  PayConserve   Age  YoungWhales\n",
              "0            1  65000.5            2            1  31.0            1\n",
              "1            0  10000.0            6            0  22.0            0\n",
              "2            0  85000.5            7            0  46.0            0\n",
              "3            0  25000.5            4            1  37.0            1\n",
              "5            0  45000.5            3            1  65.0            1\n",
              "..         ...      ...          ...          ...   ...          ...\n",
              "696          0  10000.0            0            1  56.0            1\n",
              "697          0  35000.5            6            1  38.0            1\n",
              "698          0  25000.5            6            1  24.0            0\n",
              "699          0  35000.5            2            1  50.0            1\n",
              "700          0  85000.5            8            0  32.0            1\n",
              "\n",
              "[668 rows x 6 columns]>"
            ]
          },
          "metadata": {},
          "execution_count": 17
        }
      ]
    },
    {
      "cell_type": "code",
      "source": [
        "df[\"PayConserve\"].value_counts(dropna=False)"
      ],
      "metadata": {
        "colab": {
          "base_uri": "https://localhost:8080/"
        },
        "id": "L6icvBQg24mL",
        "outputId": "4ae32264-44b7-4471-e207-536912b63734"
      },
      "execution_count": 18,
      "outputs": [
        {
          "output_type": "execute_result",
          "data": {
            "text/plain": [
              "1    447\n",
              "0    221\n",
              "Name: PayConserve, dtype: int64"
            ]
          },
          "metadata": {},
          "execution_count": 18
        }
      ]
    },
    {
      "cell_type": "code",
      "source": [
        "x=df.copy()\n",
        "y=x.pop('PayConserve')\n",
        "x=sm.add_constant(x)\n",
        "model=sm.OLS(y,x)\n",
        "reg=model.fit()\n",
        "reg.summary()"
      ],
      "metadata": {
        "colab": {
          "base_uri": "https://localhost:8080/",
          "height": 626
        },
        "id": "pWfJ2k4F3CaS",
        "outputId": "64404724-1e85-4279-dc25-231bf0d12a64"
      },
      "execution_count": 19,
      "outputs": [
        {
          "output_type": "stream",
          "name": "stderr",
          "text": [
            "/usr/local/lib/python3.7/dist-packages/statsmodels/tsa/tsatools.py:117: FutureWarning: In a future version of pandas all arguments of concat except for the argument 'objs' will be keyword-only\n",
            "  x = pd.concat(x[::order], 1)\n"
          ]
        },
        {
          "output_type": "execute_result",
          "data": {
            "text/plain": [
              "<class 'statsmodels.iolib.summary.Summary'>\n",
              "\"\"\"\n",
              "                            OLS Regression Results                            \n",
              "==============================================================================\n",
              "Dep. Variable:            PayConserve   R-squared:                       0.022\n",
              "Model:                            OLS   Adj. R-squared:                  0.015\n",
              "Method:                 Least Squares   F-statistic:                     3.026\n",
              "Date:                Thu, 26 May 2022   Prob (F-statistic):             0.0104\n",
              "Time:                        19:33:19   Log-Likelihood:                -436.68\n",
              "No. Observations:                 668   AIC:                             885.4\n",
              "Df Residuals:                     662   BIC:                             912.4\n",
              "Df Model:                           5                                         \n",
              "Covariance Type:            nonrobust                                         \n",
              "===============================================================================\n",
              "                  coef    std err          t      P>|t|      [0.025      0.975]\n",
              "-------------------------------------------------------------------------------\n",
              "const           0.7895      0.073     10.864      0.000       0.647       0.932\n",
              "SeeWhales       0.1293      0.055      2.364      0.018       0.022       0.237\n",
              "Income      -5.575e-07   6.99e-07     -0.798      0.425   -1.93e-06    8.15e-07\n",
              "AdultWhales     0.0060      0.005      1.225      0.221      -0.004       0.015\n",
              "Age            -0.0037      0.001     -3.109      0.002      -0.006      -0.001\n",
              "YoungWhales     0.0148      0.042      0.354      0.724      -0.067       0.097\n",
              "==============================================================================\n",
              "Omnibus:                     9465.928   Durbin-Watson:                   1.948\n",
              "Prob(Omnibus):                  0.000   Jarque-Bera (JB):              109.818\n",
              "Skew:                          -0.695   Prob(JB):                     1.42e-24\n",
              "Kurtosis:                       1.582   Cond. No.                     2.14e+05\n",
              "==============================================================================\n",
              "\n",
              "Warnings:\n",
              "[1] Standard Errors assume that the covariance matrix of the errors is correctly specified.\n",
              "[2] The condition number is large, 2.14e+05. This might indicate that there are\n",
              "strong multicollinearity or other numerical problems.\n",
              "\"\"\""
            ],
            "text/html": [
              "<table class=\"simpletable\">\n",
              "<caption>OLS Regression Results</caption>\n",
              "<tr>\n",
              "  <th>Dep. Variable:</th>       <td>PayConserve</td>   <th>  R-squared:         </th> <td>   0.022</td>\n",
              "</tr>\n",
              "<tr>\n",
              "  <th>Model:</th>                   <td>OLS</td>       <th>  Adj. R-squared:    </th> <td>   0.015</td>\n",
              "</tr>\n",
              "<tr>\n",
              "  <th>Method:</th>             <td>Least Squares</td>  <th>  F-statistic:       </th> <td>   3.026</td>\n",
              "</tr>\n",
              "<tr>\n",
              "  <th>Date:</th>             <td>Thu, 26 May 2022</td> <th>  Prob (F-statistic):</th>  <td>0.0104</td> \n",
              "</tr>\n",
              "<tr>\n",
              "  <th>Time:</th>                 <td>19:33:19</td>     <th>  Log-Likelihood:    </th> <td> -436.68</td>\n",
              "</tr>\n",
              "<tr>\n",
              "  <th>No. Observations:</th>      <td>   668</td>      <th>  AIC:               </th> <td>   885.4</td>\n",
              "</tr>\n",
              "<tr>\n",
              "  <th>Df Residuals:</th>          <td>   662</td>      <th>  BIC:               </th> <td>   912.4</td>\n",
              "</tr>\n",
              "<tr>\n",
              "  <th>Df Model:</th>              <td>     5</td>      <th>                     </th>     <td> </td>   \n",
              "</tr>\n",
              "<tr>\n",
              "  <th>Covariance Type:</th>      <td>nonrobust</td>    <th>                     </th>     <td> </td>   \n",
              "</tr>\n",
              "</table>\n",
              "<table class=\"simpletable\">\n",
              "<tr>\n",
              "       <td></td>          <th>coef</th>     <th>std err</th>      <th>t</th>      <th>P>|t|</th>  <th>[0.025</th>    <th>0.975]</th>  \n",
              "</tr>\n",
              "<tr>\n",
              "  <th>const</th>       <td>    0.7895</td> <td>    0.073</td> <td>   10.864</td> <td> 0.000</td> <td>    0.647</td> <td>    0.932</td>\n",
              "</tr>\n",
              "<tr>\n",
              "  <th>SeeWhales</th>   <td>    0.1293</td> <td>    0.055</td> <td>    2.364</td> <td> 0.018</td> <td>    0.022</td> <td>    0.237</td>\n",
              "</tr>\n",
              "<tr>\n",
              "  <th>Income</th>      <td>-5.575e-07</td> <td> 6.99e-07</td> <td>   -0.798</td> <td> 0.425</td> <td>-1.93e-06</td> <td> 8.15e-07</td>\n",
              "</tr>\n",
              "<tr>\n",
              "  <th>AdultWhales</th> <td>    0.0060</td> <td>    0.005</td> <td>    1.225</td> <td> 0.221</td> <td>   -0.004</td> <td>    0.015</td>\n",
              "</tr>\n",
              "<tr>\n",
              "  <th>Age</th>         <td>   -0.0037</td> <td>    0.001</td> <td>   -3.109</td> <td> 0.002</td> <td>   -0.006</td> <td>   -0.001</td>\n",
              "</tr>\n",
              "<tr>\n",
              "  <th>YoungWhales</th> <td>    0.0148</td> <td>    0.042</td> <td>    0.354</td> <td> 0.724</td> <td>   -0.067</td> <td>    0.097</td>\n",
              "</tr>\n",
              "</table>\n",
              "<table class=\"simpletable\">\n",
              "<tr>\n",
              "  <th>Omnibus:</th>       <td>9465.928</td> <th>  Durbin-Watson:     </th> <td>   1.948</td>\n",
              "</tr>\n",
              "<tr>\n",
              "  <th>Prob(Omnibus):</th>  <td> 0.000</td>  <th>  Jarque-Bera (JB):  </th> <td> 109.818</td>\n",
              "</tr>\n",
              "<tr>\n",
              "  <th>Skew:</th>           <td>-0.695</td>  <th>  Prob(JB):          </th> <td>1.42e-24</td>\n",
              "</tr>\n",
              "<tr>\n",
              "  <th>Kurtosis:</th>       <td> 1.582</td>  <th>  Cond. No.          </th> <td>2.14e+05</td>\n",
              "</tr>\n",
              "</table><br/><br/>Warnings:<br/>[1] Standard Errors assume that the covariance matrix of the errors is correctly specified.<br/>[2] The condition number is large, 2.14e+05. This might indicate that there are<br/>strong multicollinearity or other numerical problems."
            ]
          },
          "metadata": {},
          "execution_count": 19
        }
      ]
    },
    {
      "cell_type": "code",
      "source": [
        "reg.params[\"Age\"]"
      ],
      "metadata": {
        "colab": {
          "base_uri": "https://localhost:8080/"
        },
        "id": "lZrT2HMk3JUO",
        "outputId": "a8667cf5-778f-4929-f2e9-72af92e8aecc"
      },
      "execution_count": 20,
      "outputs": [
        {
          "output_type": "execute_result",
          "data": {
            "text/plain": [
              "-0.0037159097672800293"
            ]
          },
          "metadata": {},
          "execution_count": 20
        }
      ]
    },
    {
      "cell_type": "markdown",
      "source": [
        "La edad es una variable de importancia en este modelo debido a que las personas más jovenes aumentarian su pago por la preservación de las ballenas, es notorio que tiene una reducción de un 0.3% debido a que a que las personas mayores no están dispuestas a incrementar sus pagos."
      ],
      "metadata": {
        "id": "-BO5u_Kj3Y4q"
      }
    },
    {
      "cell_type": "code",
      "source": [
        "reg.params[\"SeeWhales\"]"
      ],
      "metadata": {
        "colab": {
          "base_uri": "https://localhost:8080/"
        },
        "id": "-N9rPW-U3LVO",
        "outputId": "c2257c33-91ef-4ec7-c799-8845a5509956"
      },
      "execution_count": 21,
      "outputs": [
        {
          "output_type": "execute_result",
          "data": {
            "text/plain": [
              "0.12928189982095512"
            ]
          },
          "metadata": {},
          "execution_count": 21
        }
      ]
    },
    {
      "cell_type": "markdown",
      "source": [
        "Incrementa en un 13% aproximadamente la situación en que las personas que ven ballenas esten dispuestas a pagar por la preservación de ésta especie."
      ],
      "metadata": {
        "id": "gY44Qozq4rW0"
      }
    },
    {
      "cell_type": "code",
      "source": [
        "y=df[\"PayConserve\"]\n",
        "x = df[[\"Age\",\"SeeWhales\"]]\n",
        "x=sm.add_constant(x)\n",
        "model=sm.OLS(y,x)\n",
        "reg=model.fit()\n",
        "reg.summary()"
      ],
      "metadata": {
        "colab": {
          "base_uri": "https://localhost:8080/",
          "height": 528
        },
        "id": "LZNhIawF5KhQ",
        "outputId": "be596d25-6a13-481f-8d10-03112dc92896"
      },
      "execution_count": 22,
      "outputs": [
        {
          "output_type": "stream",
          "name": "stderr",
          "text": [
            "/usr/local/lib/python3.7/dist-packages/statsmodels/tsa/tsatools.py:117: FutureWarning: In a future version of pandas all arguments of concat except for the argument 'objs' will be keyword-only\n",
            "  x = pd.concat(x[::order], 1)\n"
          ]
        },
        {
          "output_type": "execute_result",
          "data": {
            "text/plain": [
              "<class 'statsmodels.iolib.summary.Summary'>\n",
              "\"\"\"\n",
              "                            OLS Regression Results                            \n",
              "==============================================================================\n",
              "Dep. Variable:            PayConserve   R-squared:                       0.019\n",
              "Model:                            OLS   Adj. R-squared:                  0.016\n",
              "Method:                 Least Squares   F-statistic:                     6.541\n",
              "Date:                Thu, 26 May 2022   Prob (F-statistic):            0.00154\n",
              "Time:                        19:42:58   Log-Likelihood:                -437.72\n",
              "No. Observations:                 668   AIC:                             881.4\n",
              "Df Residuals:                     665   BIC:                             895.0\n",
              "Df Model:                           2                                         \n",
              "Covariance Type:            nonrobust                                         \n",
              "==============================================================================\n",
              "                 coef    std err          t      P>|t|      [0.025      0.975]\n",
              "------------------------------------------------------------------------------\n",
              "const          0.8014      0.053     15.021      0.000       0.697       0.906\n",
              "Age           -0.0035      0.001     -2.951      0.003      -0.006      -0.001\n",
              "SeeWhales      0.1341      0.054      2.463      0.014       0.027       0.241\n",
              "==============================================================================\n",
              "Omnibus:                     8390.096   Durbin-Watson:                   1.949\n",
              "Prob(Omnibus):                  0.000   Jarque-Bera (JB):              110.924\n",
              "Skew:                          -0.698   Prob(JB):                     8.19e-25\n",
              "Kurtosis:                       1.572   Cond. No.                         137.\n",
              "==============================================================================\n",
              "\n",
              "Warnings:\n",
              "[1] Standard Errors assume that the covariance matrix of the errors is correctly specified.\n",
              "\"\"\""
            ],
            "text/html": [
              "<table class=\"simpletable\">\n",
              "<caption>OLS Regression Results</caption>\n",
              "<tr>\n",
              "  <th>Dep. Variable:</th>       <td>PayConserve</td>   <th>  R-squared:         </th> <td>   0.019</td>\n",
              "</tr>\n",
              "<tr>\n",
              "  <th>Model:</th>                   <td>OLS</td>       <th>  Adj. R-squared:    </th> <td>   0.016</td>\n",
              "</tr>\n",
              "<tr>\n",
              "  <th>Method:</th>             <td>Least Squares</td>  <th>  F-statistic:       </th> <td>   6.541</td>\n",
              "</tr>\n",
              "<tr>\n",
              "  <th>Date:</th>             <td>Thu, 26 May 2022</td> <th>  Prob (F-statistic):</th>  <td>0.00154</td>\n",
              "</tr>\n",
              "<tr>\n",
              "  <th>Time:</th>                 <td>19:42:58</td>     <th>  Log-Likelihood:    </th> <td> -437.72</td>\n",
              "</tr>\n",
              "<tr>\n",
              "  <th>No. Observations:</th>      <td>   668</td>      <th>  AIC:               </th> <td>   881.4</td>\n",
              "</tr>\n",
              "<tr>\n",
              "  <th>Df Residuals:</th>          <td>   665</td>      <th>  BIC:               </th> <td>   895.0</td>\n",
              "</tr>\n",
              "<tr>\n",
              "  <th>Df Model:</th>              <td>     2</td>      <th>                     </th>     <td> </td>   \n",
              "</tr>\n",
              "<tr>\n",
              "  <th>Covariance Type:</th>      <td>nonrobust</td>    <th>                     </th>     <td> </td>   \n",
              "</tr>\n",
              "</table>\n",
              "<table class=\"simpletable\">\n",
              "<tr>\n",
              "      <td></td>         <th>coef</th>     <th>std err</th>      <th>t</th>      <th>P>|t|</th>  <th>[0.025</th>    <th>0.975]</th>  \n",
              "</tr>\n",
              "<tr>\n",
              "  <th>const</th>     <td>    0.8014</td> <td>    0.053</td> <td>   15.021</td> <td> 0.000</td> <td>    0.697</td> <td>    0.906</td>\n",
              "</tr>\n",
              "<tr>\n",
              "  <th>Age</th>       <td>   -0.0035</td> <td>    0.001</td> <td>   -2.951</td> <td> 0.003</td> <td>   -0.006</td> <td>   -0.001</td>\n",
              "</tr>\n",
              "<tr>\n",
              "  <th>SeeWhales</th> <td>    0.1341</td> <td>    0.054</td> <td>    2.463</td> <td> 0.014</td> <td>    0.027</td> <td>    0.241</td>\n",
              "</tr>\n",
              "</table>\n",
              "<table class=\"simpletable\">\n",
              "<tr>\n",
              "  <th>Omnibus:</th>       <td>8390.096</td> <th>  Durbin-Watson:     </th> <td>   1.949</td>\n",
              "</tr>\n",
              "<tr>\n",
              "  <th>Prob(Omnibus):</th>  <td> 0.000</td>  <th>  Jarque-Bera (JB):  </th> <td> 110.924</td>\n",
              "</tr>\n",
              "<tr>\n",
              "  <th>Skew:</th>           <td>-0.698</td>  <th>  Prob(JB):          </th> <td>8.19e-25</td>\n",
              "</tr>\n",
              "<tr>\n",
              "  <th>Kurtosis:</th>       <td> 1.572</td>  <th>  Cond. No.          </th> <td>    137.</td>\n",
              "</tr>\n",
              "</table><br/><br/>Warnings:<br/>[1] Standard Errors assume that the covariance matrix of the errors is correctly specified."
            ]
          },
          "metadata": {},
          "execution_count": 22
        }
      ]
    },
    {
      "cell_type": "code",
      "source": [
        "reg.params[\"Age\"]"
      ],
      "metadata": {
        "colab": {
          "base_uri": "https://localhost:8080/"
        },
        "id": "B8S9Gu-s5XLW",
        "outputId": "93488d9b-bd55-4a25-dce0-c6654c2448e4"
      },
      "execution_count": 23,
      "outputs": [
        {
          "output_type": "execute_result",
          "data": {
            "text/plain": [
              "-0.0034910326442436916"
            ]
          },
          "metadata": {},
          "execution_count": 23
        }
      ]
    },
    {
      "cell_type": "code",
      "source": [
        "reg.params[\"SeeWhales\"]"
      ],
      "metadata": {
        "colab": {
          "base_uri": "https://localhost:8080/"
        },
        "id": "EumTxdWZ5ZHO",
        "outputId": "203522fa-4d86-4443-eda6-c0cb9ee6a317"
      },
      "execution_count": 24,
      "outputs": [
        {
          "output_type": "execute_result",
          "data": {
            "text/plain": [
              "0.13405884169521956"
            ]
          },
          "metadata": {},
          "execution_count": 24
        }
      ]
    },
    {
      "cell_type": "markdown",
      "source": [
        "Conclusión =>\n",
        "\n",
        "Es notorio el bajo interés de las personas con edades avanzadas hacia la preservación de estos mamíferos ya que hacer el cálculo sobre el modelo su atrayente disminuye hasta en un 0.34%. Con esto cómo ya ha sido afirmado las personas más jóvenes estarán dispuestas a generar un pago mayor por la preservación, no obstante, la situación de que al ver estos mamíferos de inmediato se quiera generar un pago por su conservación es de 13.40% aproximadamente."
      ],
      "metadata": {
        "id": "q28forvb8cmi"
      }
    }
  ]
}